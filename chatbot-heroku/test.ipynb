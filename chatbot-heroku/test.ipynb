{
 "cells": [
  {
   "cell_type": "code",
   "execution_count": 1,
   "metadata": {},
   "outputs": [],
   "source": [
    "import requests\n",
    "import json\n",
    "FIREBASE_HOST =\"datacenter-3975d-default-rtdb.asia-southeast1.firebasedatabase.app\"\n",
    "FIREBASE_AUTH= \"7sWhgxLOBU37yOo3swUAIGWvuEhcbRzp1kvm7TwC\"\n"
   ]
  },
  {
   "cell_type": "code",
   "execution_count": 23,
   "metadata": {},
   "outputs": [],
   "source": [
    "link = \"https://{}/.json?auth={}\".format(FIREBASE_HOST,FIREBASE_AUTH)\n",
    "response = requests.get(link)"
   ]
  },
  {
   "cell_type": "code",
   "execution_count": 24,
   "metadata": {},
   "outputs": [
    {
     "data": {
      "text/plain": [
       "{'baimon': {'Bangkok': {'Humidity': 82, 'Temperature': 37.3},\n",
       "  'Phichit': {'Humidity': 73, 'Temperature': 35.3},\n",
       "  'Prachinburi': {'Humidity': 74, 'Temperature': 33.3},\n",
       "  'Rayong': {'Humidity': 68, 'Temperature': 38.3},\n",
       "  'Trat': {'Humidity': 78, 'Temperature': 35.3}},\n",
       " 'dave': {'Ang Thong': {'Humidity': 82, 'Temperature': 32.3},\n",
       "  'Bangkok': {'Humidity': 78, 'Temperature': 31.3},\n",
       "  'Chai Nat': {'Humidity': 70, 'Temperature': 36.3},\n",
       "  'Lopburi': {'Humidity': 70, 'Temperature': 39.3},\n",
       "  'Udon Thani': {'Humidity': 70, 'Temperature': 39.3}},\n",
       " 'nice': {'Bangkok': {'Humidity': 75, 'Temperature': 39.3},\n",
       "  'Chonburi': {'Humidity': 72, 'Temperature': 32.3},\n",
       "  'Lampang': {'Humidity': 71, 'Temperature': 37.3},\n",
       "  'Lamphun': {'Humidity': 76, 'Temperature': 32.3},\n",
       "  'Nan': {'Humidity': 76, 'Temperature': 37.3}}}"
      ]
     },
     "execution_count": 24,
     "metadata": {},
     "output_type": "execute_result"
    }
   ],
   "source": [
    "response.json()"
   ]
  },
  {
   "cell_type": "code",
   "execution_count": 15,
   "metadata": {},
   "outputs": [
    {
     "data": {
      "text/plain": [
       "62.7"
      ]
     },
     "execution_count": 15,
     "metadata": {},
     "output_type": "execute_result"
    }
   ],
   "source": [
    "response.json()['Lampang']['dave'][\"Humidity\"]"
   ]
  }
 ],
 "metadata": {
  "interpreter": {
   "hash": "d84aa64f0a3c966ba3fd06b02c032d94d8bd98a27332dc6995cec2eda48b849c"
  },
  "kernelspec": {
   "display_name": "Python 3.8.6 64-bit ('tfm1': conda)",
   "name": "python3"
  },
  "language_info": {
   "codemirror_mode": {
    "name": "ipython",
    "version": 3
   },
   "file_extension": ".py",
   "mimetype": "text/x-python",
   "name": "python",
   "nbconvert_exporter": "python",
   "pygments_lexer": "ipython3",
   "version": "3.8.6"
  },
  "orig_nbformat": 4
 },
 "nbformat": 4,
 "nbformat_minor": 2
}
